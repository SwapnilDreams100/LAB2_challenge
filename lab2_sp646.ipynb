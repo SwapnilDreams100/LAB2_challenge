{
  "nbformat": 4,
  "nbformat_minor": 0,
  "metadata": {
    "colab": {
      "provenance": []
    },
    "kernelspec": {
      "name": "python3",
      "display_name": "Python 3"
    },
    "language_info": {
      "name": "python"
    },
    "accelerator": "GPU",
    "gpuClass": "standard"
  },
  "cells": [
    {
      "cell_type": "code",
      "source": [
        "from tensorflow import keras \n",
        "import sys\n",
        "import h5py\n",
        "import numpy as np\n",
        "clean_data_filename = './drive/MyDrive/Lab3/cl/valid.h5'\n",
        "clean_data_filename_test = './drive/MyDrive/Lab3/cl/test.h5'\n",
        "poisoned_data_filename = './drive/MyDrive/Lab3/bd/bd_valid.h5'\n",
        "model_filename = 'bd_net.h5'\n",
        "\n",
        "def data_loader(filepath):\n",
        "    data = h5py.File(filepath, 'r')\n",
        "    x_data = np.array(data['data'])\n",
        "    y_data = np.array(data['label'])\n",
        "    x_data = x_data.transpose((0,2,3,1))\n",
        "    return x_data, y_data\n",
        "\n",
        "cl_x_valid, cl_y_valid = data_loader(clean_data_filename)\n",
        "cl_x_test, cl_y_test = data_loader(clean_data_filename_test)\n",
        "bd_x_valid, bd_y_valid = data_loader(poisoned_data_filename)"
      ],
      "metadata": {
        "id": "YGzvTwYkzeq5"
      },
      "execution_count": 2,
      "outputs": []
    },
    {
      "cell_type": "code",
      "source": [
        "# import tensorflow\n",
        "# tensorflow.config.experimental.list_physical_devices('GPU')"
      ],
      "metadata": {
        "id": "Q4Rq3K5TasNk"
      },
      "execution_count": 3,
      "outputs": []
    },
    {
      "cell_type": "code",
      "source": [
        "from tensorflow.keras.models import Model\n",
        "import tensorflow.keras.backend as K\n",
        "from tqdm import tqdm\n",
        "\n",
        "def get_intermediate(model, layer_ind):\n",
        "    intermediate_layer_model = keras.models.Model(inputs=model.input,\n",
        "                                 outputs=model.layers[layer_ind].output)\n",
        "    return intermediate_layer_model\n",
        "\n",
        "class G(keras.Model):\n",
        "    def __init__(self, B, B_prime):\n",
        "        super(G, self).__init__()\n",
        "        self.B = B\n",
        "        self.B_prime = B_prime\n",
        "\n",
        "    def call(self,data):\n",
        "        y = np.argmax(self.B(data), axis=1)\n",
        "        y_prime = np.argmax(self.B_prime(data), axis=1)\n",
        "        tmpRes = np.array([y[i] if y[i] == y_prime[i] else 1283 for i in range(y.shape[0])])\n",
        "        res = np.zeros((y.shape[0],1284))\n",
        "        res[np.arange(tmpRes.size),tmpRes] = 1\n",
        "        return res\n",
        "      \n",
        "def prune_defense(X):\n",
        "    layer_ind = 6\n",
        "    B = keras.models.load_model(model_filename)\n",
        "    B_pruned = keras.models.load_model(model_filename)\n",
        "\n",
        "    cl_label_p = np.argmax(B.predict(cl_x_valid), axis=1)\n",
        "    original_accuracy = np.mean(np.equal(cl_label_p, cl_y_valid))*100\n",
        "    print(\"orig accuracy clean: \",original_accuracy)\n",
        "\n",
        "    bd_label_p = np.argmax(B.predict(bd_x_valid), axis=1)\n",
        "    asr = np.mean(np.equal(bd_label_p, bd_y_valid))*100\n",
        "    print(\"asr badnet: \",asr)\n",
        "\n",
        "    intermediate_repr = get_intermediate(B, layer_ind)\n",
        "    activations = intermediate_repr.predict(cl_x_valid)\n",
        "\n",
        "    avg_activations = activations.mean(axis=(0,1,2))\n",
        "    sorted_activations = np.argsort(avg_activations)\n",
        "    #remove channels in decreasing order of avg_activations\n",
        "    for channel in tqdm(sorted_activations):\n",
        "        # Prune the last layer\n",
        "        layer= B_pruned.layers[layer_ind-1]\n",
        "        K.set_value(layer.kernel[:, :, :, channel], np.zeros_like(layer.kernel[:, :, :, channel]))\n",
        "        K.set_value(layer.bias[channel], np.zeros_like(layer.bias[channel]))\n",
        "\n",
        "        # B_pruned = delete_channels(B_pruned, B_pruned.layers[layer_ind-1], [i])\n",
        "        cl_label_p = np.argmax(B_pruned.predict(cl_x_valid), axis=1)\n",
        "        pruned_accuracy = np.mean(np.equal(cl_label_p, cl_y_valid))*100\n",
        "        print('Validation accuracy after pruning channel', channel, ':', pruned_accuracy)\n",
        "        if abs(original_accuracy - pruned_accuracy) > X:\n",
        "            break\n",
        "\n",
        "    goodnet = G(B, B_pruned)\n",
        "    \n",
        "    preds = goodnet(cl_x_test)\n",
        "    cl_label_p = np.argmax(preds, axis=1)\n",
        "    asr = np.mean(np.equal(cl_label_p, cl_y_test))*100\n",
        "    print(\"clean test acc goodnet: \",asr)\n",
        "    \n",
        "    preds = goodnet(bd_x_valid)\n",
        "    bd_label_p = np.argmax(preds, axis=1)\n",
        "    asr = np.mean(np.equal(bd_label_p, bd_y_valid))*100\n",
        "    print(\"asr goodnet: \",asr)\n",
        "    return B_pruned"
      ],
      "metadata": {
        "id": "P4WNzwM9X0IN"
      },
      "execution_count": 4,
      "outputs": []
    },
    {
      "cell_type": "code",
      "source": [
        "repaired_2 = prune_defense(2)"
      ],
      "metadata": {
        "colab": {
          "base_uri": "https://localhost:8080/"
        },
        "id": "cZx8gUzxZx9F",
        "outputId": "47d618b1-7fe9-406e-d0b2-934369d629de"
      },
      "execution_count": 10,
      "outputs": [
        {
          "output_type": "stream",
          "name": "stdout",
          "text": [
            "361/361 [==============================] - 1s 2ms/step\n",
            "orig accuracy clean:  98.64899974019225\n",
            "361/361 [==============================] - 1s 2ms/step\n",
            "asr badnet:  100.0\n",
            "361/361 [==============================] - 1s 2ms/step\n"
          ]
        },
        {
          "output_type": "stream",
          "name": "stderr",
          "text": [
            "\r  0%|          | 0/60 [00:00<?, ?it/s]"
          ]
        },
        {
          "output_type": "stream",
          "name": "stdout",
          "text": [
            "361/361 [==============================] - 1s 2ms/step\n"
          ]
        },
        {
          "output_type": "stream",
          "name": "stderr",
          "text": [
            "\r  2%|▏         | 1/60 [00:01<01:28,  1.50s/it]"
          ]
        },
        {
          "output_type": "stream",
          "name": "stdout",
          "text": [
            "Validation accuracy after pruning channel 0 : 98.64899974019225\n",
            "361/361 [==============================] - 1s 2ms/step\n"
          ]
        },
        {
          "output_type": "stream",
          "name": "stderr",
          "text": [
            "\r  3%|▎         | 2/60 [00:03<01:34,  1.63s/it]"
          ]
        },
        {
          "output_type": "stream",
          "name": "stdout",
          "text": [
            "Validation accuracy after pruning channel 26 : 98.64899974019225\n",
            "361/361 [==============================] - 1s 2ms/step\n"
          ]
        },
        {
          "output_type": "stream",
          "name": "stderr",
          "text": [
            "\r  5%|▌         | 3/60 [00:04<01:35,  1.68s/it]"
          ]
        },
        {
          "output_type": "stream",
          "name": "stdout",
          "text": [
            "Validation accuracy after pruning channel 27 : 98.64899974019225\n",
            "361/361 [==============================] - 1s 3ms/step\n"
          ]
        },
        {
          "output_type": "stream",
          "name": "stderr",
          "text": [
            "\r  7%|▋         | 4/60 [00:06<01:29,  1.61s/it]"
          ]
        },
        {
          "output_type": "stream",
          "name": "stdout",
          "text": [
            "Validation accuracy after pruning channel 30 : 98.64899974019225\n",
            "361/361 [==============================] - 1s 2ms/step\n"
          ]
        },
        {
          "output_type": "stream",
          "name": "stderr",
          "text": [
            "\r  8%|▊         | 5/60 [00:07<01:25,  1.56s/it]"
          ]
        },
        {
          "output_type": "stream",
          "name": "stdout",
          "text": [
            "Validation accuracy after pruning channel 31 : 98.64899974019225\n",
            "361/361 [==============================] - 1s 3ms/step\n"
          ]
        },
        {
          "output_type": "stream",
          "name": "stderr",
          "text": [
            "\r 10%|█         | 6/60 [00:09<01:27,  1.62s/it]"
          ]
        },
        {
          "output_type": "stream",
          "name": "stdout",
          "text": [
            "Validation accuracy after pruning channel 33 : 98.64899974019225\n",
            "361/361 [==============================] - 1s 2ms/step\n"
          ]
        },
        {
          "output_type": "stream",
          "name": "stderr",
          "text": [
            "\r 12%|█▏        | 7/60 [00:11<01:22,  1.56s/it]"
          ]
        },
        {
          "output_type": "stream",
          "name": "stdout",
          "text": [
            "Validation accuracy after pruning channel 34 : 98.64899974019225\n",
            "361/361 [==============================] - 1s 2ms/step\n"
          ]
        },
        {
          "output_type": "stream",
          "name": "stderr",
          "text": [
            "\r 13%|█▎        | 8/60 [00:12<01:18,  1.51s/it]"
          ]
        },
        {
          "output_type": "stream",
          "name": "stdout",
          "text": [
            "Validation accuracy after pruning channel 36 : 98.64899974019225\n",
            "361/361 [==============================] - 1s 3ms/step\n"
          ]
        },
        {
          "output_type": "stream",
          "name": "stderr",
          "text": [
            "\r 15%|█▌        | 9/60 [00:14<01:20,  1.59s/it]"
          ]
        },
        {
          "output_type": "stream",
          "name": "stdout",
          "text": [
            "Validation accuracy after pruning channel 37 : 98.64899974019225\n",
            "361/361 [==============================] - 1s 3ms/step\n"
          ]
        },
        {
          "output_type": "stream",
          "name": "stderr",
          "text": [
            "\r 17%|█▋        | 10/60 [00:16<01:22,  1.64s/it]"
          ]
        },
        {
          "output_type": "stream",
          "name": "stdout",
          "text": [
            "Validation accuracy after pruning channel 38 : 98.64899974019225\n",
            "361/361 [==============================] - 1s 3ms/step\n"
          ]
        },
        {
          "output_type": "stream",
          "name": "stderr",
          "text": [
            "\r 18%|█▊        | 11/60 [00:17<01:18,  1.60s/it]"
          ]
        },
        {
          "output_type": "stream",
          "name": "stdout",
          "text": [
            "Validation accuracy after pruning channel 25 : 98.64899974019225\n",
            "361/361 [==============================] - 1s 2ms/step\n"
          ]
        },
        {
          "output_type": "stream",
          "name": "stderr",
          "text": [
            "\r 20%|██        | 12/60 [00:19<01:18,  1.64s/it]"
          ]
        },
        {
          "output_type": "stream",
          "name": "stdout",
          "text": [
            "Validation accuracy after pruning channel 39 : 98.64899974019225\n",
            "361/361 [==============================] - 1s 2ms/step\n"
          ]
        },
        {
          "output_type": "stream",
          "name": "stderr",
          "text": [
            "\r 22%|██▏       | 13/60 [00:20<01:14,  1.58s/it]"
          ]
        },
        {
          "output_type": "stream",
          "name": "stdout",
          "text": [
            "Validation accuracy after pruning channel 41 : 98.64899974019225\n",
            "361/361 [==============================] - 1s 2ms/step\n"
          ]
        },
        {
          "output_type": "stream",
          "name": "stderr",
          "text": [
            "\r 23%|██▎       | 14/60 [00:22<01:10,  1.53s/it]"
          ]
        },
        {
          "output_type": "stream",
          "name": "stdout",
          "text": [
            "Validation accuracy after pruning channel 44 : 98.64899974019225\n",
            "361/361 [==============================] - 1s 2ms/step\n"
          ]
        },
        {
          "output_type": "stream",
          "name": "stderr",
          "text": [
            "\r 25%|██▌       | 15/60 [00:23<01:07,  1.50s/it]"
          ]
        },
        {
          "output_type": "stream",
          "name": "stdout",
          "text": [
            "Validation accuracy after pruning channel 45 : 98.64899974019225\n",
            "361/361 [==============================] - 1s 2ms/step\n"
          ]
        },
        {
          "output_type": "stream",
          "name": "stderr",
          "text": [
            "\r 27%|██▋       | 16/60 [00:25<01:09,  1.57s/it]"
          ]
        },
        {
          "output_type": "stream",
          "name": "stdout",
          "text": [
            "Validation accuracy after pruning channel 47 : 98.64899974019225\n",
            "361/361 [==============================] - 1s 2ms/step\n"
          ]
        },
        {
          "output_type": "stream",
          "name": "stderr",
          "text": [
            "\r 28%|██▊       | 17/60 [00:26<01:05,  1.53s/it]"
          ]
        },
        {
          "output_type": "stream",
          "name": "stdout",
          "text": [
            "Validation accuracy after pruning channel 48 : 98.64899974019225\n",
            "361/361 [==============================] - 1s 2ms/step\n"
          ]
        },
        {
          "output_type": "stream",
          "name": "stderr",
          "text": [
            "\r 30%|███       | 18/60 [00:28<01:03,  1.50s/it]"
          ]
        },
        {
          "output_type": "stream",
          "name": "stdout",
          "text": [
            "Validation accuracy after pruning channel 49 : 98.64899974019225\n",
            "361/361 [==============================] - 1s 3ms/step\n"
          ]
        },
        {
          "output_type": "stream",
          "name": "stderr",
          "text": [
            "\r 32%|███▏      | 19/60 [00:29<01:04,  1.57s/it]"
          ]
        },
        {
          "output_type": "stream",
          "name": "stdout",
          "text": [
            "Validation accuracy after pruning channel 50 : 98.64899974019225\n",
            "361/361 [==============================] - 1s 3ms/step\n",
            "Validation accuracy after pruning channel 53"
          ]
        },
        {
          "output_type": "stream",
          "name": "stderr",
          "text": [
            "\r 33%|███▎      | 20/60 [00:31<01:02,  1.57s/it]"
          ]
        },
        {
          "output_type": "stream",
          "name": "stdout",
          "text": [
            " : 98.64899974019225\n",
            "361/361 [==============================] - 1s 2ms/step\n"
          ]
        },
        {
          "output_type": "stream",
          "name": "stderr",
          "text": [
            "\r 35%|███▌      | 21/60 [00:32<00:59,  1.52s/it]"
          ]
        },
        {
          "output_type": "stream",
          "name": "stdout",
          "text": [
            "Validation accuracy after pruning channel 55 : 98.64899974019225\n",
            "361/361 [==============================] - 1s 2ms/step\n"
          ]
        },
        {
          "output_type": "stream",
          "name": "stderr",
          "text": [
            "\r 37%|███▋      | 22/60 [00:34<00:57,  1.50s/it]"
          ]
        },
        {
          "output_type": "stream",
          "name": "stdout",
          "text": [
            "Validation accuracy after pruning channel 40 : 98.64899974019225\n",
            "361/361 [==============================] - 1s 2ms/step\n"
          ]
        },
        {
          "output_type": "stream",
          "name": "stderr",
          "text": [
            "\r 38%|███▊      | 23/60 [00:36<00:58,  1.57s/it]"
          ]
        },
        {
          "output_type": "stream",
          "name": "stdout",
          "text": [
            "Validation accuracy after pruning channel 24 : 98.64899974019225\n",
            "361/361 [==============================] - 1s 2ms/step\n"
          ]
        },
        {
          "output_type": "stream",
          "name": "stderr",
          "text": [
            "\r 40%|████      | 24/60 [00:37<00:55,  1.54s/it]"
          ]
        },
        {
          "output_type": "stream",
          "name": "stdout",
          "text": [
            "Validation accuracy after pruning channel 59 : 98.64899974019225\n",
            "361/361 [==============================] - 1s 2ms/step\n"
          ]
        },
        {
          "output_type": "stream",
          "name": "stderr",
          "text": [
            "\r 42%|████▏     | 25/60 [00:39<00:55,  1.60s/it]"
          ]
        },
        {
          "output_type": "stream",
          "name": "stdout",
          "text": [
            "Validation accuracy after pruning channel 9 : 98.64899974019225\n",
            "361/361 [==============================] - 1s 2ms/step\n"
          ]
        },
        {
          "output_type": "stream",
          "name": "stderr",
          "text": [
            "\r 43%|████▎     | 26/60 [00:40<00:55,  1.64s/it]"
          ]
        },
        {
          "output_type": "stream",
          "name": "stdout",
          "text": [
            "Validation accuracy after pruning channel 2 : 98.64899974019225\n",
            "361/361 [==============================] - 1s 2ms/step\n"
          ]
        },
        {
          "output_type": "stream",
          "name": "stderr",
          "text": [
            "\r 45%|████▌     | 27/60 [00:42<00:52,  1.58s/it]"
          ]
        },
        {
          "output_type": "stream",
          "name": "stdout",
          "text": [
            "Validation accuracy after pruning channel 12 : 98.64899974019225\n",
            "361/361 [==============================] - 1s 2ms/step\n"
          ]
        },
        {
          "output_type": "stream",
          "name": "stderr",
          "text": [
            "\r 47%|████▋     | 28/60 [00:44<00:51,  1.62s/it]"
          ]
        },
        {
          "output_type": "stream",
          "name": "stdout",
          "text": [
            "Validation accuracy after pruning channel 13 : 98.64899974019225\n",
            "361/361 [==============================] - 1s 2ms/step\n"
          ]
        },
        {
          "output_type": "stream",
          "name": "stderr",
          "text": [
            "\r 48%|████▊     | 29/60 [00:46<00:52,  1.70s/it]"
          ]
        },
        {
          "output_type": "stream",
          "name": "stdout",
          "text": [
            "Validation accuracy after pruning channel 17 : 98.64899974019225\n",
            "361/361 [==============================] - 1s 2ms/step\n"
          ]
        },
        {
          "output_type": "stream",
          "name": "stderr",
          "text": [
            "\r 50%|█████     | 30/60 [00:47<00:51,  1.72s/it]"
          ]
        },
        {
          "output_type": "stream",
          "name": "stdout",
          "text": [
            "Validation accuracy after pruning channel 14 : 98.64899974019225\n",
            "361/361 [==============================] - 1s 2ms/step\n"
          ]
        },
        {
          "output_type": "stream",
          "name": "stderr",
          "text": [
            "\r 52%|█████▏    | 31/60 [00:49<00:47,  1.64s/it]"
          ]
        },
        {
          "output_type": "stream",
          "name": "stdout",
          "text": [
            "Validation accuracy after pruning channel 15 : 98.64899974019225\n",
            "361/361 [==============================] - 1s 2ms/step\n"
          ]
        },
        {
          "output_type": "stream",
          "name": "stderr",
          "text": [
            "\r 53%|█████▎    | 32/60 [00:50<00:43,  1.57s/it]"
          ]
        },
        {
          "output_type": "stream",
          "name": "stdout",
          "text": [
            "Validation accuracy after pruning channel 23 : 98.64899974019225\n",
            "361/361 [==============================] - 1s 2ms/step\n"
          ]
        },
        {
          "output_type": "stream",
          "name": "stderr",
          "text": [
            "\r 55%|█████▌    | 33/60 [00:52<00:43,  1.62s/it]"
          ]
        },
        {
          "output_type": "stream",
          "name": "stdout",
          "text": [
            "Validation accuracy after pruning channel 6 : 98.64899974019225\n",
            "361/361 [==============================] - 1s 2ms/step\n"
          ]
        },
        {
          "output_type": "stream",
          "name": "stderr",
          "text": [
            "\r 57%|█████▋    | 34/60 [00:53<00:40,  1.56s/it]"
          ]
        },
        {
          "output_type": "stream",
          "name": "stdout",
          "text": [
            "Validation accuracy after pruning channel 51 : 98.64033948211657\n",
            "361/361 [==============================] - 1s 2ms/step\n"
          ]
        },
        {
          "output_type": "stream",
          "name": "stderr",
          "text": [
            "\r 58%|█████▊    | 35/60 [00:55<00:38,  1.54s/it]"
          ]
        },
        {
          "output_type": "stream",
          "name": "stdout",
          "text": [
            "Validation accuracy after pruning channel 32 : 98.64033948211657\n",
            "361/361 [==============================] - 1s 2ms/step\n"
          ]
        },
        {
          "output_type": "stream",
          "name": "stderr",
          "text": [
            "\r 60%|██████    | 36/60 [00:57<00:38,  1.60s/it]"
          ]
        },
        {
          "output_type": "stream",
          "name": "stdout",
          "text": [
            "Validation accuracy after pruning channel 22 : 98.63167922404088\n",
            "361/361 [==============================] - 1s 2ms/step\n"
          ]
        },
        {
          "output_type": "stream",
          "name": "stderr",
          "text": [
            "\r 62%|██████▏   | 37/60 [00:58<00:37,  1.64s/it]"
          ]
        },
        {
          "output_type": "stream",
          "name": "stdout",
          "text": [
            "Validation accuracy after pruning channel 21 : 98.65765999826795\n",
            "361/361 [==============================] - 1s 2ms/step\n"
          ]
        },
        {
          "output_type": "stream",
          "name": "stderr",
          "text": [
            "\r 63%|██████▎   | 38/60 [01:00<00:36,  1.66s/it]"
          ]
        },
        {
          "output_type": "stream",
          "name": "stdout",
          "text": [
            "Validation accuracy after pruning channel 20 : 98.64899974019225\n",
            "361/361 [==============================] - 1s 2ms/step\n"
          ]
        },
        {
          "output_type": "stream",
          "name": "stderr",
          "text": [
            "\r 65%|██████▌   | 39/60 [01:02<00:35,  1.68s/it]"
          ]
        },
        {
          "output_type": "stream",
          "name": "stdout",
          "text": [
            "Validation accuracy after pruning channel 19 : 98.6056984498138\n",
            "361/361 [==============================] - 1s 2ms/step\n"
          ]
        },
        {
          "output_type": "stream",
          "name": "stderr",
          "text": [
            "\r 67%|██████▋   | 40/60 [01:04<00:34,  1.71s/it]"
          ]
        },
        {
          "output_type": "stream",
          "name": "stdout",
          "text": [
            "Validation accuracy after pruning channel 43 : 98.57105741751104\n",
            "361/361 [==============================] - 1s 2ms/step\n"
          ]
        },
        {
          "output_type": "stream",
          "name": "stderr",
          "text": [
            "\r 68%|██████▊   | 41/60 [01:05<00:32,  1.71s/it]"
          ]
        },
        {
          "output_type": "stream",
          "name": "stdout",
          "text": [
            "Validation accuracy after pruning channel 58 : 98.53641638520828\n",
            "361/361 [==============================] - 1s 2ms/step\n"
          ]
        },
        {
          "output_type": "stream",
          "name": "stderr",
          "text": [
            "\r 70%|███████   | 42/60 [01:07<00:30,  1.71s/it]"
          ]
        },
        {
          "output_type": "stream",
          "name": "stdout",
          "text": [
            "Validation accuracy after pruning channel 3 : 98.19000606218066\n",
            "361/361 [==============================] - 1s 2ms/step\n"
          ]
        },
        {
          "output_type": "stream",
          "name": "stderr",
          "text": [
            "\r 72%|███████▏  | 43/60 [01:09<00:29,  1.72s/it]"
          ]
        },
        {
          "output_type": "stream",
          "name": "stdout",
          "text": [
            "Validation accuracy after pruning channel 42 : 97.65307006148784\n",
            "361/361 [==============================] - 1s 2ms/step\n"
          ]
        },
        {
          "output_type": "stream",
          "name": "stderr",
          "text": [
            "\r 73%|███████▎  | 44/60 [01:10<00:27,  1.72s/it]"
          ]
        },
        {
          "output_type": "stream",
          "name": "stdout",
          "text": [
            "Validation accuracy after pruning channel 1 : 97.50584567420108\n",
            "361/361 [==============================] - 1s 2ms/step\n"
          ]
        },
        {
          "output_type": "stream",
          "name": "stderr",
          "text": [
            "\r 73%|███████▎  | 44/60 [01:12<00:26,  1.65s/it]"
          ]
        },
        {
          "output_type": "stream",
          "name": "stdout",
          "text": [
            "Validation accuracy after pruning channel 29 : 95.75647354291158\n"
          ]
        },
        {
          "output_type": "stream",
          "name": "stderr",
          "text": [
            "\n"
          ]
        },
        {
          "output_type": "stream",
          "name": "stdout",
          "text": [
            "clean test acc goodnet:  95.74434918160561\n",
            "asr goodnet:  100.0\n"
          ]
        }
      ]
    },
    {
      "cell_type": "code",
      "source": [
        "repaired_2.save(\"repaired_2\", save_format='h5')"
      ],
      "metadata": {
        "id": "f2w2VIUX8FMd"
      },
      "execution_count": 13,
      "outputs": []
    },
    {
      "cell_type": "code",
      "source": [
        "repaired_4 = prune_defense(4)"
      ],
      "metadata": {
        "colab": {
          "base_uri": "https://localhost:8080/"
        },
        "id": "tzJtZUDyLoTV",
        "outputId": "e81b11e6-b8e4-4b6e-e363-80ddf1abb295"
      },
      "execution_count": 5,
      "outputs": [
        {
          "output_type": "stream",
          "name": "stdout",
          "text": [
            "361/361 [==============================] - 8s 3ms/step\n",
            "orig accuracy clean:  98.64899974019225\n",
            "361/361 [==============================] - 1s 2ms/step\n",
            "asr badnet:  100.0\n",
            "361/361 [==============================] - 1s 2ms/step\n"
          ]
        },
        {
          "output_type": "stream",
          "name": "stderr",
          "text": [
            "\r  0%|          | 0/60 [00:00<?, ?it/s]"
          ]
        },
        {
          "output_type": "stream",
          "name": "stdout",
          "text": [
            "361/361 [==============================] - 1s 2ms/step\n"
          ]
        },
        {
          "output_type": "stream",
          "name": "stderr",
          "text": [
            "\r  2%|▏         | 1/60 [00:01<01:48,  1.84s/it]"
          ]
        },
        {
          "output_type": "stream",
          "name": "stdout",
          "text": [
            "Validation accuracy after pruning channel 0 : 98.64899974019225\n",
            "361/361 [==============================] - 1s 2ms/step\n"
          ]
        },
        {
          "output_type": "stream",
          "name": "stderr",
          "text": [
            "\r  3%|▎         | 2/60 [00:03<01:43,  1.78s/it]"
          ]
        },
        {
          "output_type": "stream",
          "name": "stdout",
          "text": [
            "Validation accuracy after pruning channel 26 : 98.64899974019225\n",
            "361/361 [==============================] - 1s 2ms/step\n"
          ]
        },
        {
          "output_type": "stream",
          "name": "stderr",
          "text": [
            "\r  5%|▌         | 3/60 [00:05<01:32,  1.62s/it]"
          ]
        },
        {
          "output_type": "stream",
          "name": "stdout",
          "text": [
            "Validation accuracy after pruning channel 27 : 98.64899974019225\n",
            "361/361 [==============================] - 1s 2ms/step\n"
          ]
        },
        {
          "output_type": "stream",
          "name": "stderr",
          "text": [
            "\r  7%|▋         | 4/60 [00:06<01:29,  1.60s/it]"
          ]
        },
        {
          "output_type": "stream",
          "name": "stdout",
          "text": [
            "Validation accuracy after pruning channel 30 : 98.64899974019225\n",
            "361/361 [==============================] - 1s 2ms/step\n"
          ]
        },
        {
          "output_type": "stream",
          "name": "stderr",
          "text": [
            "\r  8%|▊         | 5/60 [00:08<01:27,  1.59s/it]"
          ]
        },
        {
          "output_type": "stream",
          "name": "stdout",
          "text": [
            "Validation accuracy after pruning channel 31 : 98.64899974019225\n",
            "361/361 [==============================] - 1s 2ms/step\n"
          ]
        },
        {
          "output_type": "stream",
          "name": "stderr",
          "text": [
            "\r 10%|█         | 6/60 [00:10<01:31,  1.69s/it]"
          ]
        },
        {
          "output_type": "stream",
          "name": "stdout",
          "text": [
            "Validation accuracy after pruning channel 33 : 98.64899974019225\n",
            "361/361 [==============================] - 1s 2ms/step\n"
          ]
        },
        {
          "output_type": "stream",
          "name": "stderr",
          "text": [
            "\r 12%|█▏        | 7/60 [00:11<01:26,  1.63s/it]"
          ]
        },
        {
          "output_type": "stream",
          "name": "stdout",
          "text": [
            "Validation accuracy after pruning channel 34 : 98.64899974019225\n",
            "361/361 [==============================] - 1s 2ms/step\n"
          ]
        },
        {
          "output_type": "stream",
          "name": "stderr",
          "text": [
            "\r 13%|█▎        | 8/60 [00:13<01:26,  1.66s/it]"
          ]
        },
        {
          "output_type": "stream",
          "name": "stdout",
          "text": [
            "Validation accuracy after pruning channel 36 : 98.64899974019225\n",
            "361/361 [==============================] - 1s 2ms/step\n"
          ]
        },
        {
          "output_type": "stream",
          "name": "stderr",
          "text": [
            "\r 15%|█▌        | 9/60 [00:14<01:25,  1.69s/it]"
          ]
        },
        {
          "output_type": "stream",
          "name": "stdout",
          "text": [
            "Validation accuracy after pruning channel 37 : 98.64899974019225\n",
            "361/361 [==============================] - 1s 2ms/step\n"
          ]
        },
        {
          "output_type": "stream",
          "name": "stderr",
          "text": [
            "\r 17%|█▋        | 10/60 [00:16<01:20,  1.61s/it]"
          ]
        },
        {
          "output_type": "stream",
          "name": "stdout",
          "text": [
            "Validation accuracy after pruning channel 38 : 98.64899974019225\n",
            "361/361 [==============================] - 1s 2ms/step\n"
          ]
        },
        {
          "output_type": "stream",
          "name": "stderr",
          "text": [
            "\r 18%|█▊        | 11/60 [00:17<01:17,  1.58s/it]"
          ]
        },
        {
          "output_type": "stream",
          "name": "stdout",
          "text": [
            "Validation accuracy after pruning channel 25 : 98.64899974019225\n",
            "361/361 [==============================] - 1s 2ms/step\n"
          ]
        },
        {
          "output_type": "stream",
          "name": "stderr",
          "text": [
            "\r 20%|██        | 12/60 [00:19<01:19,  1.66s/it]"
          ]
        },
        {
          "output_type": "stream",
          "name": "stdout",
          "text": [
            "Validation accuracy after pruning channel 39 : 98.64899974019225\n",
            "361/361 [==============================] - 1s 2ms/step\n"
          ]
        },
        {
          "output_type": "stream",
          "name": "stderr",
          "text": [
            "\r 22%|██▏       | 13/60 [00:21<01:21,  1.73s/it]"
          ]
        },
        {
          "output_type": "stream",
          "name": "stdout",
          "text": [
            "Validation accuracy after pruning channel 41 : 98.64899974019225\n",
            "361/361 [==============================] - 1s 2ms/step\n"
          ]
        },
        {
          "output_type": "stream",
          "name": "stderr",
          "text": [
            "\r 23%|██▎       | 14/60 [00:23<01:15,  1.64s/it]"
          ]
        },
        {
          "output_type": "stream",
          "name": "stdout",
          "text": [
            "Validation accuracy after pruning channel 44 : 98.64899974019225\n",
            "361/361 [==============================] - 1s 2ms/step\n"
          ]
        },
        {
          "output_type": "stream",
          "name": "stderr",
          "text": [
            "\r 25%|██▌       | 15/60 [00:24<01:11,  1.58s/it]"
          ]
        },
        {
          "output_type": "stream",
          "name": "stdout",
          "text": [
            "Validation accuracy after pruning channel 45 : 98.64899974019225\n",
            "361/361 [==============================] - 1s 2ms/step\n"
          ]
        },
        {
          "output_type": "stream",
          "name": "stderr",
          "text": [
            "\r 27%|██▋       | 16/60 [00:26<01:11,  1.63s/it]"
          ]
        },
        {
          "output_type": "stream",
          "name": "stdout",
          "text": [
            "Validation accuracy after pruning channel 47 : 98.64899974019225\n",
            "361/361 [==============================] - 1s 2ms/step\n"
          ]
        },
        {
          "output_type": "stream",
          "name": "stderr",
          "text": [
            "\r 28%|██▊       | 17/60 [00:28<01:11,  1.66s/it]"
          ]
        },
        {
          "output_type": "stream",
          "name": "stdout",
          "text": [
            "Validation accuracy after pruning channel 48 : 98.64899974019225\n",
            "361/361 [==============================] - 1s 2ms/step\n"
          ]
        },
        {
          "output_type": "stream",
          "name": "stderr",
          "text": [
            "\r 30%|███       | 18/60 [00:29<01:10,  1.69s/it]"
          ]
        },
        {
          "output_type": "stream",
          "name": "stdout",
          "text": [
            "Validation accuracy after pruning channel 49 : 98.64899974019225\n",
            "361/361 [==============================] - 1s 2ms/step\n"
          ]
        },
        {
          "output_type": "stream",
          "name": "stderr",
          "text": [
            "\r 32%|███▏      | 19/60 [00:31<01:07,  1.66s/it]"
          ]
        },
        {
          "output_type": "stream",
          "name": "stdout",
          "text": [
            "Validation accuracy after pruning channel 50 : 98.64899974019225\n",
            "361/361 [==============================] - 1s 2ms/step\n"
          ]
        },
        {
          "output_type": "stream",
          "name": "stderr",
          "text": [
            "\r 33%|███▎      | 20/60 [00:32<01:03,  1.58s/it]"
          ]
        },
        {
          "output_type": "stream",
          "name": "stdout",
          "text": [
            "Validation accuracy after pruning channel 53 : 98.64899974019225\n",
            "361/361 [==============================] - 1s 2ms/step\n"
          ]
        },
        {
          "output_type": "stream",
          "name": "stderr",
          "text": [
            "\r 35%|███▌      | 21/60 [00:34<01:03,  1.63s/it]"
          ]
        },
        {
          "output_type": "stream",
          "name": "stdout",
          "text": [
            "Validation accuracy after pruning channel 55 : 98.64899974019225\n",
            "361/361 [==============================] - 1s 2ms/step\n"
          ]
        },
        {
          "output_type": "stream",
          "name": "stderr",
          "text": [
            "\r 37%|███▋      | 22/60 [00:35<00:59,  1.56s/it]"
          ]
        },
        {
          "output_type": "stream",
          "name": "stdout",
          "text": [
            "Validation accuracy after pruning channel 40 : 98.64899974019225\n",
            "361/361 [==============================] - 1s 2ms/step\n"
          ]
        },
        {
          "output_type": "stream",
          "name": "stderr",
          "text": [
            "\r 38%|███▊      | 23/60 [00:37<00:56,  1.52s/it]"
          ]
        },
        {
          "output_type": "stream",
          "name": "stdout",
          "text": [
            "Validation accuracy after pruning channel 24 : 98.64899974019225\n",
            "361/361 [==============================] - 1s 2ms/step\n"
          ]
        },
        {
          "output_type": "stream",
          "name": "stderr",
          "text": [
            "\r 40%|████      | 24/60 [00:38<00:53,  1.49s/it]"
          ]
        },
        {
          "output_type": "stream",
          "name": "stdout",
          "text": [
            "Validation accuracy after pruning channel 59 : 98.64899974019225\n",
            "361/361 [==============================] - 1s 3ms/step\n"
          ]
        },
        {
          "output_type": "stream",
          "name": "stderr",
          "text": [
            "\r 42%|████▏     | 25/60 [00:40<00:56,  1.61s/it]"
          ]
        },
        {
          "output_type": "stream",
          "name": "stdout",
          "text": [
            "Validation accuracy after pruning channel 9 : 98.64899974019225\n",
            "361/361 [==============================] - 1s 2ms/step\n"
          ]
        },
        {
          "output_type": "stream",
          "name": "stderr",
          "text": [
            "\r 43%|████▎     | 26/60 [00:42<00:55,  1.64s/it]"
          ]
        },
        {
          "output_type": "stream",
          "name": "stdout",
          "text": [
            "Validation accuracy after pruning channel 2 : 98.64899974019225\n",
            "361/361 [==============================] - 1s 3ms/step\n"
          ]
        },
        {
          "output_type": "stream",
          "name": "stderr",
          "text": [
            "\r 45%|████▌     | 27/60 [00:44<00:55,  1.67s/it]"
          ]
        },
        {
          "output_type": "stream",
          "name": "stdout",
          "text": [
            "Validation accuracy after pruning channel 12 : 98.64899974019225\n",
            "361/361 [==============================] - 1s 2ms/step\n"
          ]
        },
        {
          "output_type": "stream",
          "name": "stderr",
          "text": [
            "\r 47%|████▋     | 28/60 [00:45<00:54,  1.69s/it]"
          ]
        },
        {
          "output_type": "stream",
          "name": "stdout",
          "text": [
            "Validation accuracy after pruning channel 13 : 98.64899974019225\n",
            "361/361 [==============================] - 1s 2ms/step\n"
          ]
        },
        {
          "output_type": "stream",
          "name": "stderr",
          "text": [
            "\r 48%|████▊     | 29/60 [00:47<00:50,  1.62s/it]"
          ]
        },
        {
          "output_type": "stream",
          "name": "stdout",
          "text": [
            "Validation accuracy after pruning channel 17 : 98.64899974019225\n",
            "361/361 [==============================] - 1s 2ms/step\n"
          ]
        },
        {
          "output_type": "stream",
          "name": "stderr",
          "text": [
            "\r 50%|█████     | 30/60 [00:49<00:49,  1.65s/it]"
          ]
        },
        {
          "output_type": "stream",
          "name": "stdout",
          "text": [
            "Validation accuracy after pruning channel 14 : 98.64899974019225\n",
            "361/361 [==============================] - 1s 2ms/step\n"
          ]
        },
        {
          "output_type": "stream",
          "name": "stderr",
          "text": [
            "\r 52%|█████▏    | 31/60 [00:50<00:48,  1.68s/it]"
          ]
        },
        {
          "output_type": "stream",
          "name": "stdout",
          "text": [
            "Validation accuracy after pruning channel 15 : 98.64899974019225\n",
            "361/361 [==============================] - 1s 2ms/step\n"
          ]
        },
        {
          "output_type": "stream",
          "name": "stderr",
          "text": [
            "\r 53%|█████▎    | 32/60 [00:52<00:47,  1.70s/it]"
          ]
        },
        {
          "output_type": "stream",
          "name": "stdout",
          "text": [
            "Validation accuracy after pruning channel 23 : 98.64899974019225\n",
            "361/361 [==============================] - 1s 3ms/step\n"
          ]
        },
        {
          "output_type": "stream",
          "name": "stderr",
          "text": [
            "\r 55%|█████▌    | 33/60 [00:54<00:46,  1.71s/it]"
          ]
        },
        {
          "output_type": "stream",
          "name": "stdout",
          "text": [
            "Validation accuracy after pruning channel 6 : 98.64899974019225\n",
            "361/361 [==============================] - 1s 3ms/step\n"
          ]
        },
        {
          "output_type": "stream",
          "name": "stderr",
          "text": [
            "\r 57%|█████▋    | 34/60 [00:55<00:42,  1.64s/it]"
          ]
        },
        {
          "output_type": "stream",
          "name": "stdout",
          "text": [
            "Validation accuracy after pruning channel 51 : 98.64033948211657\n",
            "361/361 [==============================] - 1s 3ms/step\n"
          ]
        },
        {
          "output_type": "stream",
          "name": "stderr",
          "text": [
            "\r 58%|█████▊    | 35/60 [00:57<00:40,  1.60s/it]"
          ]
        },
        {
          "output_type": "stream",
          "name": "stdout",
          "text": [
            "Validation accuracy after pruning channel 32 : 98.64033948211657\n",
            "361/361 [==============================] - 1s 3ms/step\n"
          ]
        },
        {
          "output_type": "stream",
          "name": "stderr",
          "text": [
            "\r 60%|██████    | 36/60 [00:59<00:39,  1.64s/it]"
          ]
        },
        {
          "output_type": "stream",
          "name": "stdout",
          "text": [
            "Validation accuracy after pruning channel 22 : 98.63167922404088\n",
            "361/361 [==============================] - 1s 3ms/step\n"
          ]
        },
        {
          "output_type": "stream",
          "name": "stderr",
          "text": [
            "\r 62%|██████▏   | 37/60 [01:00<00:38,  1.67s/it]"
          ]
        },
        {
          "output_type": "stream",
          "name": "stdout",
          "text": [
            "Validation accuracy after pruning channel 21 : 98.65765999826795\n",
            "361/361 [==============================] - 1s 2ms/step\n"
          ]
        },
        {
          "output_type": "stream",
          "name": "stderr",
          "text": [
            "\r 63%|██████▎   | 38/60 [01:02<00:35,  1.60s/it]"
          ]
        },
        {
          "output_type": "stream",
          "name": "stdout",
          "text": [
            "Validation accuracy after pruning channel 20 : 98.64899974019225\n",
            "361/361 [==============================] - 1s 2ms/step\n"
          ]
        },
        {
          "output_type": "stream",
          "name": "stderr",
          "text": [
            "\r 65%|██████▌   | 39/60 [01:03<00:32,  1.56s/it]"
          ]
        },
        {
          "output_type": "stream",
          "name": "stdout",
          "text": [
            "Validation accuracy after pruning channel 19 : 98.6056984498138\n",
            "361/361 [==============================] - 1s 2ms/step\n"
          ]
        },
        {
          "output_type": "stream",
          "name": "stderr",
          "text": [
            "\r 67%|██████▋   | 40/60 [01:05<00:32,  1.61s/it]"
          ]
        },
        {
          "output_type": "stream",
          "name": "stdout",
          "text": [
            "Validation accuracy after pruning channel 43 : 98.57105741751104\n",
            "361/361 [==============================] - 1s 2ms/step\n"
          ]
        },
        {
          "output_type": "stream",
          "name": "stderr",
          "text": [
            "\r 68%|██████▊   | 41/60 [01:06<00:29,  1.56s/it]"
          ]
        },
        {
          "output_type": "stream",
          "name": "stdout",
          "text": [
            "Validation accuracy after pruning channel 58 : 98.53641638520828\n",
            "361/361 [==============================] - 1s 3ms/step\n"
          ]
        },
        {
          "output_type": "stream",
          "name": "stderr",
          "text": [
            "\r 70%|███████   | 42/60 [01:08<00:27,  1.53s/it]"
          ]
        },
        {
          "output_type": "stream",
          "name": "stdout",
          "text": [
            "Validation accuracy after pruning channel 3 : 98.19000606218066\n",
            "361/361 [==============================] - 1s 3ms/step\n"
          ]
        },
        {
          "output_type": "stream",
          "name": "stderr",
          "text": [
            "\r 72%|███████▏  | 43/60 [01:10<00:27,  1.59s/it]"
          ]
        },
        {
          "output_type": "stream",
          "name": "stdout",
          "text": [
            "Validation accuracy after pruning channel 42 : 97.65307006148784\n",
            "361/361 [==============================] - 1s 3ms/step\n"
          ]
        },
        {
          "output_type": "stream",
          "name": "stderr",
          "text": [
            "\r 73%|███████▎  | 44/60 [01:11<00:25,  1.57s/it]"
          ]
        },
        {
          "output_type": "stream",
          "name": "stdout",
          "text": [
            "Validation accuracy after pruning channel 1 : 97.50584567420108\n",
            "361/361 [==============================] - 1s 2ms/step\n"
          ]
        },
        {
          "output_type": "stream",
          "name": "stderr",
          "text": [
            "\r 75%|███████▌  | 45/60 [01:12<00:23,  1.53s/it]"
          ]
        },
        {
          "output_type": "stream",
          "name": "stdout",
          "text": [
            "Validation accuracy after pruning channel 29 : 95.75647354291158\n",
            "361/361 [==============================] - 1s 3ms/step\n"
          ]
        },
        {
          "output_type": "stream",
          "name": "stderr",
          "text": [
            "\r 77%|███████▋  | 46/60 [01:14<00:21,  1.52s/it]"
          ]
        },
        {
          "output_type": "stream",
          "name": "stdout",
          "text": [
            "Validation accuracy after pruning channel 16 : 95.20221702606739\n",
            "361/361 [==============================] - 1s 2ms/step\n"
          ]
        },
        {
          "output_type": "stream",
          "name": "stderr",
          "text": [
            "\r 78%|███████▊  | 47/60 [01:15<00:19,  1.51s/it]"
          ]
        },
        {
          "output_type": "stream",
          "name": "stdout",
          "text": [
            "Validation accuracy after pruning channel 56 : 94.7172425738287\n",
            "361/361 [==============================] - 1s 3ms/step\n"
          ]
        },
        {
          "output_type": "stream",
          "name": "stderr",
          "text": [
            "\r 78%|███████▊  | 47/60 [01:17<00:21,  1.65s/it]"
          ]
        },
        {
          "output_type": "stream",
          "name": "stdout",
          "text": [
            "Validation accuracy after pruning channel 46 : 92.09318437689443\n"
          ]
        },
        {
          "output_type": "stream",
          "name": "stderr",
          "text": [
            "\n"
          ]
        },
        {
          "output_type": "stream",
          "name": "stdout",
          "text": [
            "clean test acc goodnet:  92.1278254091972\n",
            "asr goodnet:  99.9913397419243\n"
          ]
        }
      ]
    },
    {
      "cell_type": "code",
      "source": [
        "repaired_4.save(\"repaired_4.h5\")"
      ],
      "metadata": {
        "id": "1-K-2FM11Obo"
      },
      "execution_count": 7,
      "outputs": []
    },
    {
      "cell_type": "code",
      "source": [
        "repaired_10 = prune_defense(10)"
      ],
      "metadata": {
        "colab": {
          "base_uri": "https://localhost:8080/"
        },
        "id": "iJHPOmMFLoRA",
        "outputId": "53e5caa4-8ed6-4361-cc49-791afa42c008"
      },
      "execution_count": 6,
      "outputs": [
        {
          "output_type": "stream",
          "name": "stdout",
          "text": [
            "361/361 [==============================] - 1s 2ms/step\n",
            "orig accuracy clean:  98.64899974019225\n",
            "361/361 [==============================] - 1s 2ms/step\n",
            "asr badnet:  100.0\n",
            "361/361 [==============================] - 1s 2ms/step\n"
          ]
        },
        {
          "output_type": "stream",
          "name": "stderr",
          "text": [
            "\r  0%|          | 0/60 [00:00<?, ?it/s]"
          ]
        },
        {
          "output_type": "stream",
          "name": "stdout",
          "text": [
            "361/361 [==============================] - 1s 2ms/step\n"
          ]
        },
        {
          "output_type": "stream",
          "name": "stderr",
          "text": [
            "\r  2%|▏         | 1/60 [00:01<01:27,  1.48s/it]"
          ]
        },
        {
          "output_type": "stream",
          "name": "stdout",
          "text": [
            "Validation accuracy after pruning channel 0 : 98.64899974019225\n",
            "361/361 [==============================] - 1s 2ms/step\n"
          ]
        },
        {
          "output_type": "stream",
          "name": "stderr",
          "text": [
            "\r  3%|▎         | 2/60 [00:02<01:23,  1.45s/it]"
          ]
        },
        {
          "output_type": "stream",
          "name": "stdout",
          "text": [
            "Validation accuracy after pruning channel 26 : 98.64899974019225\n",
            "361/361 [==============================] - 1s 2ms/step\n"
          ]
        },
        {
          "output_type": "stream",
          "name": "stderr",
          "text": [
            "\r  5%|▌         | 3/60 [00:04<01:29,  1.57s/it]"
          ]
        },
        {
          "output_type": "stream",
          "name": "stdout",
          "text": [
            "Validation accuracy after pruning channel 27 : 98.64899974019225\n",
            "361/361 [==============================] - 1s 2ms/step\n"
          ]
        },
        {
          "output_type": "stream",
          "name": "stderr",
          "text": [
            "\r  7%|▋         | 4/60 [00:06<01:31,  1.64s/it]"
          ]
        },
        {
          "output_type": "stream",
          "name": "stdout",
          "text": [
            "Validation accuracy after pruning channel 30 : 98.64899974019225\n",
            "361/361 [==============================] - 1s 2ms/step\n"
          ]
        },
        {
          "output_type": "stream",
          "name": "stderr",
          "text": [
            "\r  8%|▊         | 5/60 [00:07<01:26,  1.56s/it]"
          ]
        },
        {
          "output_type": "stream",
          "name": "stdout",
          "text": [
            "Validation accuracy after pruning channel 31 : 98.64899974019225\n",
            "361/361 [==============================] - 1s 2ms/step\n"
          ]
        },
        {
          "output_type": "stream",
          "name": "stderr",
          "text": [
            "\r 10%|█         | 6/60 [00:09<01:21,  1.52s/it]"
          ]
        },
        {
          "output_type": "stream",
          "name": "stdout",
          "text": [
            "Validation accuracy after pruning channel 33 : 98.64899974019225\n",
            "361/361 [==============================] - 1s 2ms/step\n"
          ]
        },
        {
          "output_type": "stream",
          "name": "stderr",
          "text": [
            "\r 12%|█▏        | 7/60 [00:10<01:24,  1.59s/it]"
          ]
        },
        {
          "output_type": "stream",
          "name": "stdout",
          "text": [
            "Validation accuracy after pruning channel 34 : 98.64899974019225\n",
            "361/361 [==============================] - 1s 2ms/step\n"
          ]
        },
        {
          "output_type": "stream",
          "name": "stderr",
          "text": [
            "\r 13%|█▎        | 8/60 [00:12<01:24,  1.63s/it]"
          ]
        },
        {
          "output_type": "stream",
          "name": "stdout",
          "text": [
            "Validation accuracy after pruning channel 36 : 98.64899974019225\n",
            "361/361 [==============================] - 1s 2ms/step\n"
          ]
        },
        {
          "output_type": "stream",
          "name": "stderr",
          "text": [
            "\r 15%|█▌        | 9/60 [00:14<01:24,  1.66s/it]"
          ]
        },
        {
          "output_type": "stream",
          "name": "stdout",
          "text": [
            "Validation accuracy after pruning channel 37 : 98.64899974019225\n",
            "361/361 [==============================] - 1s 2ms/step\n"
          ]
        },
        {
          "output_type": "stream",
          "name": "stderr",
          "text": [
            "\r 17%|█▋        | 10/60 [00:15<01:21,  1.64s/it]"
          ]
        },
        {
          "output_type": "stream",
          "name": "stdout",
          "text": [
            "Validation accuracy after pruning channel 38 : 98.64899974019225\n",
            "361/361 [==============================] - 1s 2ms/step\n"
          ]
        },
        {
          "output_type": "stream",
          "name": "stderr",
          "text": [
            "\r 18%|█▊        | 11/60 [00:17<01:23,  1.71s/it]"
          ]
        },
        {
          "output_type": "stream",
          "name": "stdout",
          "text": [
            "Validation accuracy after pruning channel 25 : 98.64899974019225\n",
            "361/361 [==============================] - 1s 2ms/step\n"
          ]
        },
        {
          "output_type": "stream",
          "name": "stderr",
          "text": [
            "\r 20%|██        | 12/60 [00:19<01:22,  1.72s/it]"
          ]
        },
        {
          "output_type": "stream",
          "name": "stdout",
          "text": [
            "Validation accuracy after pruning channel 39 : 98.64899974019225\n",
            "361/361 [==============================] - 1s 2ms/step\n"
          ]
        },
        {
          "output_type": "stream",
          "name": "stderr",
          "text": [
            "\r 22%|██▏       | 13/60 [00:21<01:16,  1.63s/it]"
          ]
        },
        {
          "output_type": "stream",
          "name": "stdout",
          "text": [
            "Validation accuracy after pruning channel 41 : 98.64899974019225\n",
            "361/361 [==============================] - 1s 2ms/step\n"
          ]
        },
        {
          "output_type": "stream",
          "name": "stderr",
          "text": [
            "\r 23%|██▎       | 14/60 [00:22<01:12,  1.57s/it]"
          ]
        },
        {
          "output_type": "stream",
          "name": "stdout",
          "text": [
            "Validation accuracy after pruning channel 44 : 98.64899974019225\n",
            "361/361 [==============================] - 1s 2ms/step\n"
          ]
        },
        {
          "output_type": "stream",
          "name": "stderr",
          "text": [
            "\r 25%|██▌       | 15/60 [00:23<01:09,  1.55s/it]"
          ]
        },
        {
          "output_type": "stream",
          "name": "stdout",
          "text": [
            "Validation accuracy after pruning channel 45 : 98.64899974019225\n",
            "361/361 [==============================] - 1s 2ms/step\n"
          ]
        },
        {
          "output_type": "stream",
          "name": "stderr",
          "text": [
            "\r 27%|██▋       | 16/60 [00:25<01:06,  1.52s/it]"
          ]
        },
        {
          "output_type": "stream",
          "name": "stdout",
          "text": [
            "Validation accuracy after pruning channel 47 : 98.64899974019225\n",
            "361/361 [==============================] - 1s 2ms/step\n"
          ]
        },
        {
          "output_type": "stream",
          "name": "stderr",
          "text": [
            "\r 28%|██▊       | 17/60 [00:27<01:09,  1.62s/it]"
          ]
        },
        {
          "output_type": "stream",
          "name": "stdout",
          "text": [
            "Validation accuracy after pruning channel 48 : 98.64899974019225\n",
            "361/361 [==============================] - 1s 2ms/step\n"
          ]
        },
        {
          "output_type": "stream",
          "name": "stderr",
          "text": [
            "\r 30%|███       | 18/60 [00:28<01:05,  1.57s/it]"
          ]
        },
        {
          "output_type": "stream",
          "name": "stdout",
          "text": [
            "Validation accuracy after pruning channel 49 : 98.64899974019225\n",
            "361/361 [==============================] - 1s 2ms/step\n"
          ]
        },
        {
          "output_type": "stream",
          "name": "stderr",
          "text": [
            "\r 32%|███▏      | 19/60 [00:30<01:02,  1.53s/it]"
          ]
        },
        {
          "output_type": "stream",
          "name": "stdout",
          "text": [
            "Validation accuracy after pruning channel 50 : 98.64899974019225\n",
            "361/361 [==============================] - 1s 2ms/step\n"
          ]
        },
        {
          "output_type": "stream",
          "name": "stderr",
          "text": [
            "\r 33%|███▎      | 20/60 [00:31<01:00,  1.51s/it]"
          ]
        },
        {
          "output_type": "stream",
          "name": "stdout",
          "text": [
            "Validation accuracy after pruning channel 53 : 98.64899974019225\n",
            "361/361 [==============================] - 1s 2ms/step\n"
          ]
        },
        {
          "output_type": "stream",
          "name": "stderr",
          "text": [
            "\r 35%|███▌      | 21/60 [00:33<01:01,  1.57s/it]"
          ]
        },
        {
          "output_type": "stream",
          "name": "stdout",
          "text": [
            "Validation accuracy after pruning channel 55 : 98.64899974019225\n",
            "361/361 [==============================] - 1s 2ms/step\n"
          ]
        },
        {
          "output_type": "stream",
          "name": "stderr",
          "text": [
            "\r 37%|███▋      | 22/60 [00:34<00:58,  1.53s/it]"
          ]
        },
        {
          "output_type": "stream",
          "name": "stdout",
          "text": [
            "Validation accuracy after pruning channel 40 : 98.64899974019225\n",
            "361/361 [==============================] - 1s 2ms/step\n"
          ]
        },
        {
          "output_type": "stream",
          "name": "stderr",
          "text": [
            "\r 38%|███▊      | 23/60 [00:36<01:00,  1.64s/it]"
          ]
        },
        {
          "output_type": "stream",
          "name": "stdout",
          "text": [
            "Validation accuracy after pruning channel 24 : 98.64899974019225\n",
            "361/361 [==============================] - 1s 2ms/step\n"
          ]
        },
        {
          "output_type": "stream",
          "name": "stderr",
          "text": [
            "\r 40%|████      | 24/60 [00:38<00:56,  1.58s/it]"
          ]
        },
        {
          "output_type": "stream",
          "name": "stdout",
          "text": [
            "Validation accuracy after pruning channel 59 : 98.64899974019225\n",
            "361/361 [==============================] - 1s 2ms/step\n"
          ]
        },
        {
          "output_type": "stream",
          "name": "stderr",
          "text": [
            "\r 42%|████▏     | 25/60 [00:39<00:54,  1.55s/it]"
          ]
        },
        {
          "output_type": "stream",
          "name": "stdout",
          "text": [
            "Validation accuracy after pruning channel 9 : 98.64899974019225\n",
            "361/361 [==============================] - 1s 2ms/step\n"
          ]
        },
        {
          "output_type": "stream",
          "name": "stderr",
          "text": [
            "\r 43%|████▎     | 26/60 [00:41<00:51,  1.52s/it]"
          ]
        },
        {
          "output_type": "stream",
          "name": "stdout",
          "text": [
            "Validation accuracy after pruning channel 2 : 98.64899974019225\n",
            "361/361 [==============================] - 1s 2ms/step\n"
          ]
        },
        {
          "output_type": "stream",
          "name": "stderr",
          "text": [
            "\r 45%|████▌     | 27/60 [00:42<00:52,  1.58s/it]"
          ]
        },
        {
          "output_type": "stream",
          "name": "stdout",
          "text": [
            "Validation accuracy after pruning channel 12 : 98.64899974019225\n",
            "361/361 [==============================] - 1s 2ms/step\n"
          ]
        },
        {
          "output_type": "stream",
          "name": "stderr",
          "text": [
            "\r 47%|████▋     | 28/60 [00:44<00:49,  1.54s/it]"
          ]
        },
        {
          "output_type": "stream",
          "name": "stdout",
          "text": [
            "Validation accuracy after pruning channel 13 : 98.64899974019225\n",
            "361/361 [==============================] - 1s 2ms/step\n"
          ]
        },
        {
          "output_type": "stream",
          "name": "stderr",
          "text": [
            "\r 48%|████▊     | 29/60 [00:46<00:50,  1.64s/it]"
          ]
        },
        {
          "output_type": "stream",
          "name": "stdout",
          "text": [
            "Validation accuracy after pruning channel 17 : 98.64899974019225\n",
            "361/361 [==============================] - 1s 2ms/step\n"
          ]
        },
        {
          "output_type": "stream",
          "name": "stderr",
          "text": [
            "\r 50%|█████     | 30/60 [00:47<00:49,  1.67s/it]"
          ]
        },
        {
          "output_type": "stream",
          "name": "stdout",
          "text": [
            "Validation accuracy after pruning channel 14 : 98.64899974019225\n",
            "361/361 [==============================] - 1s 2ms/step\n"
          ]
        },
        {
          "output_type": "stream",
          "name": "stderr",
          "text": [
            "\r 52%|█████▏    | 31/60 [00:49<00:48,  1.68s/it]"
          ]
        },
        {
          "output_type": "stream",
          "name": "stdout",
          "text": [
            "Validation accuracy after pruning channel 15 : 98.64899974019225\n",
            "361/361 [==============================] - 1s 2ms/step\n"
          ]
        },
        {
          "output_type": "stream",
          "name": "stderr",
          "text": [
            "\r 53%|█████▎    | 32/60 [00:51<00:47,  1.70s/it]"
          ]
        },
        {
          "output_type": "stream",
          "name": "stdout",
          "text": [
            "Validation accuracy after pruning channel 23 : 98.64899974019225\n",
            "361/361 [==============================] - 1s 3ms/step\n"
          ]
        },
        {
          "output_type": "stream",
          "name": "stderr",
          "text": [
            "\r 55%|█████▌    | 33/60 [00:52<00:46,  1.71s/it]"
          ]
        },
        {
          "output_type": "stream",
          "name": "stdout",
          "text": [
            "Validation accuracy after pruning channel 6 : 98.64899974019225\n",
            "361/361 [==============================] - 1s 2ms/step\n"
          ]
        },
        {
          "output_type": "stream",
          "name": "stderr",
          "text": [
            "\r 57%|█████▋    | 34/60 [00:54<00:44,  1.71s/it]"
          ]
        },
        {
          "output_type": "stream",
          "name": "stdout",
          "text": [
            "Validation accuracy after pruning channel 51 : 98.64033948211657\n",
            "361/361 [==============================] - 1s 2ms/step\n"
          ]
        },
        {
          "output_type": "stream",
          "name": "stderr",
          "text": [
            "\r 58%|█████▊    | 35/60 [00:56<00:44,  1.78s/it]"
          ]
        },
        {
          "output_type": "stream",
          "name": "stdout",
          "text": [
            "Validation accuracy after pruning channel 32 : 98.64033948211657\n",
            "361/361 [==============================] - 1s 2ms/step\n"
          ]
        },
        {
          "output_type": "stream",
          "name": "stderr",
          "text": [
            "\r 60%|██████    | 36/60 [00:58<00:42,  1.76s/it]"
          ]
        },
        {
          "output_type": "stream",
          "name": "stdout",
          "text": [
            "Validation accuracy after pruning channel 22 : 98.63167922404088\n",
            "361/361 [==============================] - 1s 2ms/step\n"
          ]
        },
        {
          "output_type": "stream",
          "name": "stderr",
          "text": [
            "\r 62%|██████▏   | 37/60 [01:00<00:40,  1.75s/it]"
          ]
        },
        {
          "output_type": "stream",
          "name": "stdout",
          "text": [
            "Validation accuracy after pruning channel 21 : 98.65765999826795\n",
            "361/361 [==============================] - 1s 2ms/step\n"
          ]
        },
        {
          "output_type": "stream",
          "name": "stderr",
          "text": [
            "\r 63%|██████▎   | 38/60 [01:01<00:38,  1.76s/it]"
          ]
        },
        {
          "output_type": "stream",
          "name": "stdout",
          "text": [
            "Validation accuracy after pruning channel 20 : 98.64899974019225\n",
            "361/361 [==============================] - 1s 2ms/step\n"
          ]
        },
        {
          "output_type": "stream",
          "name": "stderr",
          "text": [
            "\r 65%|██████▌   | 39/60 [01:03<00:34,  1.66s/it]"
          ]
        },
        {
          "output_type": "stream",
          "name": "stdout",
          "text": [
            "Validation accuracy after pruning channel 19 : 98.6056984498138\n",
            "361/361 [==============================] - 1s 2ms/step\n"
          ]
        },
        {
          "output_type": "stream",
          "name": "stderr",
          "text": [
            "\r 67%|██████▋   | 40/60 [01:04<00:31,  1.58s/it]"
          ]
        },
        {
          "output_type": "stream",
          "name": "stdout",
          "text": [
            "Validation accuracy after pruning channel 43 : 98.57105741751104\n",
            "361/361 [==============================] - 1s 2ms/step\n"
          ]
        },
        {
          "output_type": "stream",
          "name": "stderr",
          "text": [
            "\r 68%|██████▊   | 41/60 [01:06<00:31,  1.67s/it]"
          ]
        },
        {
          "output_type": "stream",
          "name": "stdout",
          "text": [
            "Validation accuracy after pruning channel 58 : 98.53641638520828\n",
            "361/361 [==============================] - 1s 2ms/step\n"
          ]
        },
        {
          "output_type": "stream",
          "name": "stderr",
          "text": [
            "\r 70%|███████   | 42/60 [01:08<00:30,  1.69s/it]"
          ]
        },
        {
          "output_type": "stream",
          "name": "stdout",
          "text": [
            "Validation accuracy after pruning channel 3 : 98.19000606218066\n",
            "361/361 [==============================] - 1s 3ms/step\n"
          ]
        },
        {
          "output_type": "stream",
          "name": "stderr",
          "text": [
            "\r 72%|███████▏  | 43/60 [01:10<00:29,  1.72s/it]"
          ]
        },
        {
          "output_type": "stream",
          "name": "stdout",
          "text": [
            "Validation accuracy after pruning channel 42 : 97.65307006148784\n",
            "361/361 [==============================] - 1s 4ms/step\n"
          ]
        },
        {
          "output_type": "stream",
          "name": "stderr",
          "text": [
            "\r 73%|███████▎  | 44/60 [01:12<00:29,  1.87s/it]"
          ]
        },
        {
          "output_type": "stream",
          "name": "stdout",
          "text": [
            "Validation accuracy after pruning channel 1 : 97.50584567420108\n",
            "361/361 [==============================] - 2s 5ms/step\n"
          ]
        },
        {
          "output_type": "stream",
          "name": "stderr",
          "text": [
            "\r 75%|███████▌  | 45/60 [01:14<00:31,  2.10s/it]"
          ]
        },
        {
          "output_type": "stream",
          "name": "stdout",
          "text": [
            "Validation accuracy after pruning channel 29 : 95.75647354291158\n",
            "361/361 [==============================] - 1s 3ms/step\n"
          ]
        },
        {
          "output_type": "stream",
          "name": "stderr",
          "text": [
            "\r 77%|███████▋  | 46/60 [01:16<00:29,  2.08s/it]"
          ]
        },
        {
          "output_type": "stream",
          "name": "stdout",
          "text": [
            "Validation accuracy after pruning channel 16 : 95.20221702606739\n",
            "361/361 [==============================] - 1s 2ms/step\n"
          ]
        },
        {
          "output_type": "stream",
          "name": "stderr",
          "text": [
            "\r 78%|███████▊  | 47/60 [01:19<00:26,  2.06s/it]"
          ]
        },
        {
          "output_type": "stream",
          "name": "stdout",
          "text": [
            "Validation accuracy after pruning channel 56 : 94.7172425738287\n",
            "361/361 [==============================] - 1s 2ms/step\n"
          ]
        },
        {
          "output_type": "stream",
          "name": "stderr",
          "text": [
            "\r 80%|████████  | 48/60 [01:20<00:22,  1.89s/it]"
          ]
        },
        {
          "output_type": "stream",
          "name": "stdout",
          "text": [
            "Validation accuracy after pruning channel 46 : 92.09318437689443\n",
            "361/361 [==============================] - 1s 2ms/step\n"
          ]
        },
        {
          "output_type": "stream",
          "name": "stderr",
          "text": [
            "\r 82%|████████▏ | 49/60 [01:21<00:19,  1.76s/it]"
          ]
        },
        {
          "output_type": "stream",
          "name": "stdout",
          "text": [
            "Validation accuracy after pruning channel 5 : 91.49562656967177\n",
            "361/361 [==============================] - 1s 2ms/step\n"
          ]
        },
        {
          "output_type": "stream",
          "name": "stderr",
          "text": [
            "\r 83%|████████▎ | 50/60 [01:23<00:17,  1.75s/it]"
          ]
        },
        {
          "output_type": "stream",
          "name": "stdout",
          "text": [
            "Validation accuracy after pruning channel 8 : 91.01931237550879\n",
            "361/361 [==============================] - 1s 2ms/step\n"
          ]
        },
        {
          "output_type": "stream",
          "name": "stderr",
          "text": [
            "\r 85%|████████▌ | 51/60 [01:25<00:15,  1.75s/it]"
          ]
        },
        {
          "output_type": "stream",
          "name": "stdout",
          "text": [
            "Validation accuracy after pruning channel 11 : 89.17467740538669\n",
            "361/361 [==============================] - 1s 2ms/step\n"
          ]
        },
        {
          "output_type": "stream",
          "name": "stderr",
          "text": [
            "\r 85%|████████▌ | 51/60 [01:26<00:15,  1.70s/it]"
          ]
        },
        {
          "output_type": "stream",
          "name": "stdout",
          "text": [
            "Validation accuracy after pruning channel 54 : 84.43751623798389\n"
          ]
        },
        {
          "output_type": "stream",
          "name": "stderr",
          "text": [
            "\n"
          ]
        },
        {
          "output_type": "stream",
          "name": "stdout",
          "text": [
            "clean test acc goodnet:  84.3335931410756\n",
            "asr goodnet:  77.015675067117\n"
          ]
        }
      ]
    },
    {
      "cell_type": "code",
      "source": [
        "repaired_10.save(\"repaired_10.h5\")"
      ],
      "metadata": {
        "id": "lYd1VJ4PXzq0"
      },
      "execution_count": 8,
      "outputs": []
    },
    {
      "cell_type": "code",
      "source": [],
      "metadata": {
        "id": "SSYAZluC89xU"
      },
      "execution_count": null,
      "outputs": []
    },
    {
      "cell_type": "code",
      "source": [
        "## Creating stats for report"
      ],
      "metadata": {
        "id": "_PMo1Qt089ur"
      },
      "execution_count": null,
      "outputs": []
    },
    {
      "cell_type": "code",
      "source": [
        "def prune_defense_all(X):\n",
        "    layer_ind = 6\n",
        "    B = keras.models.load_model(model_filename)\n",
        "    B_pruned = keras.models.load_model(model_filename)\n",
        "\n",
        "    cl_label_p = np.argmax(B.predict(cl_x_valid), axis=1)\n",
        "    original_accuracy = np.mean(np.equal(cl_label_p, cl_y_valid))*100\n",
        "    print(\"orig accuracy clean: \",original_accuracy)\n",
        "\n",
        "    bd_label_p = np.argmax(B.predict(bd_x_valid), axis=1)\n",
        "    asr = np.mean(np.equal(bd_label_p, bd_y_valid))*100\n",
        "    print(\"asr badnet: \",asr)\n",
        "\n",
        "    intermediate_repr = get_intermediate(B, layer_ind)\n",
        "    activations = intermediate_repr.predict(cl_x_valid)\n",
        "\n",
        "    avg_activations = activations.mean(axis=(0,1,2))\n",
        "    sorted_activations = np.argsort(avg_activations)\n",
        "    l = len(sorted_activations)\n",
        "    #remove channels in decreasing order of avg_activations\n",
        "    i = 0\n",
        "    for channel in (sorted_activations):\n",
        "        # Prune the last layer\n",
        "        layer= B_pruned.layers[layer_ind-1]\n",
        "        K.set_value(layer.kernel[:, :, :, channel], np.zeros_like(layer.kernel[:, :, :, channel]))\n",
        "        K.set_value(layer.bias[channel], np.zeros_like(layer.bias[channel]))\n",
        "\n",
        "        # B_pruned = delete_channels(B_pruned, B_pruned.layers[layer_ind-1], [i])\n",
        "        # cl_label_p = np.argmax(B_pruned.predict(cl_x_valid), axis=1)\n",
        "        # pruned_accuracy = np.mean(np.equal(cl_label_p, cl_y_valid))*100\n",
        "        # print('Validation accuracy after pruning channel', channel, ':', pruned_accuracy)\n",
        "        \n",
        "        goodnet = G(B, B_pruned)\n",
        "        print(i/l)\n",
        "        \n",
        "        preds = goodnet(cl_x_test)\n",
        "        cl_label_p = np.argmax(preds, axis=1)\n",
        "        asr = np.mean(np.equal(cl_label_p, cl_y_test))*100\n",
        "        print(\"clean test acc goodnet: \",asr)\n",
        "        \n",
        "        preds = goodnet(bd_x_valid)\n",
        "        bd_label_p = np.argmax(preds, axis=1)\n",
        "        asr = np.mean(np.equal(bd_label_p, bd_y_valid))*100\n",
        "        print(\"asr goodnet: \",asr)\n",
        "        i+=1"
      ],
      "metadata": {
        "id": "yBpz4AzfXzmR"
      },
      "execution_count": 17,
      "outputs": []
    },
    {
      "cell_type": "code",
      "source": [
        "prune_defense_all(0)"
      ],
      "metadata": {
        "id": "cjPEVUOyXzjw",
        "colab": {
          "base_uri": "https://localhost:8080/"
        },
        "outputId": "0ee60425-d22e-4661-eefe-6337cb9797fd"
      },
      "execution_count": 18,
      "outputs": [
        {
          "output_type": "stream",
          "name": "stdout",
          "text": [
            "361/361 [==============================] - 1s 2ms/step\n",
            "orig accuracy clean:  98.64899974019225\n",
            "361/361 [==============================] - 1s 2ms/step\n",
            "asr badnet:  100.0\n",
            "361/361 [==============================] - 1s 2ms/step\n",
            "0.0\n",
            "clean test acc goodnet:  98.62042088854248\n",
            "asr goodnet:  100.0\n",
            "0.016666666666666666\n",
            "clean test acc goodnet:  98.62042088854248\n",
            "asr goodnet:  100.0\n",
            "0.03333333333333333\n",
            "clean test acc goodnet:  98.62042088854248\n",
            "asr goodnet:  100.0\n",
            "0.05\n",
            "clean test acc goodnet:  98.62042088854248\n",
            "asr goodnet:  100.0\n",
            "0.06666666666666667\n",
            "clean test acc goodnet:  98.62042088854248\n",
            "asr goodnet:  100.0\n",
            "0.08333333333333333\n",
            "clean test acc goodnet:  98.62042088854248\n",
            "asr goodnet:  100.0\n",
            "0.1\n",
            "clean test acc goodnet:  98.62042088854248\n",
            "asr goodnet:  100.0\n",
            "0.11666666666666667\n",
            "clean test acc goodnet:  98.62042088854248\n",
            "asr goodnet:  100.0\n",
            "0.13333333333333333\n",
            "clean test acc goodnet:  98.62042088854248\n",
            "asr goodnet:  100.0\n",
            "0.15\n",
            "clean test acc goodnet:  98.62042088854248\n",
            "asr goodnet:  100.0\n",
            "0.16666666666666666\n",
            "clean test acc goodnet:  98.62042088854248\n",
            "asr goodnet:  100.0\n",
            "0.18333333333333332\n",
            "clean test acc goodnet:  98.62042088854248\n",
            "asr goodnet:  100.0\n",
            "0.2\n",
            "clean test acc goodnet:  98.62042088854248\n",
            "asr goodnet:  100.0\n",
            "0.21666666666666667\n",
            "clean test acc goodnet:  98.62042088854248\n",
            "asr goodnet:  100.0\n",
            "0.23333333333333334\n",
            "clean test acc goodnet:  98.62042088854248\n",
            "asr goodnet:  100.0\n",
            "0.25\n",
            "clean test acc goodnet:  98.62042088854248\n",
            "asr goodnet:  100.0\n",
            "0.26666666666666666\n",
            "clean test acc goodnet:  98.62042088854248\n",
            "asr goodnet:  100.0\n",
            "0.2833333333333333\n",
            "clean test acc goodnet:  98.62042088854248\n",
            "asr goodnet:  100.0\n",
            "0.3\n",
            "clean test acc goodnet:  98.62042088854248\n",
            "asr goodnet:  100.0\n",
            "0.31666666666666665\n",
            "clean test acc goodnet:  98.62042088854248\n",
            "asr goodnet:  100.0\n",
            "0.3333333333333333\n",
            "clean test acc goodnet:  98.62042088854248\n",
            "asr goodnet:  100.0\n",
            "0.35\n",
            "clean test acc goodnet:  98.62042088854248\n",
            "asr goodnet:  100.0\n",
            "0.36666666666666664\n",
            "clean test acc goodnet:  98.62042088854248\n",
            "asr goodnet:  100.0\n",
            "0.38333333333333336\n",
            "clean test acc goodnet:  98.62042088854248\n",
            "asr goodnet:  100.0\n",
            "0.4\n",
            "clean test acc goodnet:  98.62042088854248\n",
            "asr goodnet:  100.0\n",
            "0.4166666666666667\n",
            "clean test acc goodnet:  98.62042088854248\n",
            "asr goodnet:  100.0\n",
            "0.43333333333333335\n",
            "clean test acc goodnet:  98.62042088854248\n",
            "asr goodnet:  100.0\n",
            "0.45\n",
            "clean test acc goodnet:  98.62042088854248\n",
            "asr goodnet:  100.0\n",
            "0.4666666666666667\n",
            "clean test acc goodnet:  98.62042088854248\n",
            "asr goodnet:  100.0\n",
            "0.48333333333333334\n",
            "clean test acc goodnet:  98.62042088854248\n",
            "asr goodnet:  100.0\n",
            "0.5\n",
            "clean test acc goodnet:  98.62042088854248\n",
            "asr goodnet:  100.0\n",
            "0.5166666666666667\n",
            "clean test acc goodnet:  98.62042088854248\n",
            "asr goodnet:  100.0\n",
            "0.5333333333333333\n",
            "clean test acc goodnet:  98.62042088854248\n",
            "asr goodnet:  100.0\n",
            "0.55\n",
            "clean test acc goodnet:  98.61262665627436\n",
            "asr goodnet:  100.0\n",
            "0.5666666666666667\n",
            "clean test acc goodnet:  98.60483242400623\n",
            "asr goodnet:  100.0\n",
            "0.5833333333333334\n",
            "clean test acc goodnet:  98.59703819173812\n",
            "asr goodnet:  100.0\n",
            "0.6\n",
            "clean test acc goodnet:  98.59703819173812\n",
            "asr goodnet:  100.0\n",
            "0.6166666666666667\n",
            "clean test acc goodnet:  98.57365549493376\n",
            "asr goodnet:  100.0\n",
            "0.6333333333333333\n",
            "clean test acc goodnet:  98.52689010132501\n",
            "asr goodnet:  100.0\n",
            "0.65\n",
            "clean test acc goodnet:  98.44115354637569\n",
            "asr goodnet:  100.0\n",
            "0.6666666666666666\n",
            "clean test acc goodnet:  98.4099766173032\n",
            "asr goodnet:  100.0\n",
            "0.6833333333333333\n",
            "clean test acc goodnet:  98.11379579111458\n",
            "asr goodnet:  100.0\n",
            "0.7\n",
            "clean test acc goodnet:  97.74746687451285\n",
            "asr goodnet:  100.0\n",
            "0.7166666666666667\n",
            "clean test acc goodnet:  97.50584567420108\n",
            "asr goodnet:  100.0\n",
            "0.7333333333333333\n",
            "clean test acc goodnet:  95.74434918160561\n",
            "asr goodnet:  100.0\n",
            "0.75\n",
            "clean test acc goodnet:  95.34684333593141\n",
            "asr goodnet:  99.9913397419243\n",
            "0.7666666666666667\n",
            "clean test acc goodnet:  94.90257209664848\n",
            "asr goodnet:  99.9913397419243\n",
            "0.7833333333333333\n",
            "clean test acc goodnet:  92.1278254091972\n",
            "asr goodnet:  99.9913397419243\n",
            "0.8\n",
            "clean test acc goodnet:  91.58222915042869\n",
            "asr goodnet:  99.9913397419243\n",
            "0.8166666666666667\n",
            "clean test acc goodnet:  91.13016367887764\n",
            "asr goodnet:  99.98267948384861\n",
            "0.8333333333333334\n",
            "clean test acc goodnet:  89.68043647700702\n",
            "asr goodnet:  80.73958603966398\n",
            "0.85\n",
            "clean test acc goodnet:  84.3335931410756\n",
            "asr goodnet:  77.015675067117\n",
            "0.8666666666666667\n",
            "clean test acc goodnet:  76.16523772408418\n",
            "asr goodnet:  35.71490430414826\n",
            "0.8833333333333333\n",
            "clean test acc goodnet:  54.67653936087296\n",
            "asr goodnet:  6.954187234779596\n",
            "0.9\n",
            "clean test acc goodnet:  27.069368667186282\n",
            "asr goodnet:  0.4243526457088421\n",
            "0.9166666666666666\n",
            "clean test acc goodnet:  13.702260327357754\n",
            "asr goodnet:  0.0\n",
            "0.9333333333333333\n",
            "clean test acc goodnet:  6.562743569758379\n",
            "asr goodnet:  0.0\n",
            "0.95\n",
            "clean test acc goodnet:  1.5198752922837102\n",
            "asr goodnet:  0.0\n",
            "0.9666666666666667\n",
            "clean test acc goodnet:  0.646921278254092\n",
            "asr goodnet:  0.0\n",
            "0.9833333333333333\n",
            "clean test acc goodnet:  0.0701480904130943\n",
            "asr goodnet:  0.0\n"
          ]
        }
      ]
    },
    {
      "cell_type": "code",
      "source": [],
      "metadata": {
        "id": "4N5BvkDFXzhO"
      },
      "execution_count": null,
      "outputs": []
    },
    {
      "cell_type": "code",
      "source": [],
      "metadata": {
        "id": "OhLQRgzPXzek"
      },
      "execution_count": null,
      "outputs": []
    }
  ]
}